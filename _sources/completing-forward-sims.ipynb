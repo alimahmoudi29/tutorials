{
 "cells": [
  {
   "cell_type": "markdown",
   "id": "martial-cheat",
   "metadata": {},
   "source": [
    "# Completing forwards simulations\n",
    "\n",
    ":::{note}\n",
    "Link to other tutorial sections on forward sims\n",
    ":::\n",
    "\n",
    "The ``msprime`` simulator generates tree sequences using the backwards in\n",
    "time coalescent model. But it is also possible to output tree sequences\n",
    "from [forwards-time](https://doi.org/10.1371/journal.pcbi.1006581)\n",
    "simulators such as [SLiM](https://messerlab.org/slim)\n",
    "and [fwdpy11](https://fwdpy11.readthedocs.io/).\n",
    "There are many advantages to using forward-time simulators, but they\n",
    "are usually quite slow compared to similar coalescent simulations. In this\n",
    "section we show how to combine the best of both approaches by simulating\n",
    "the recent past using a forwards-time simulator and then complete the\n",
    "simulation of the ancient past using ``msprime``. (We sometimes refer to this\n",
    "\"recapitation\", as we can think of it as adding a \"head\" onto a tree sequence.)\n",
    "\n",
    "First, we define a simple Wright-Fisher simulator which returns a tree sequence\n",
    "with the properties that we require (please see the \n",
    "{ref}`msprime documentation <msprime:sec_ancestry_initial_state>`\n",
    "for a formal description of these properties):"
   ]
  },
  {
   "cell_type": "code",
   "execution_count": 1,
   "id": "empty-lingerie",
   "metadata": {},
   "outputs": [],
   "source": [
    "import tskit\n",
    "import msprime\n",
    "import random\n",
    "import numpy as np\n",
    "from IPython.display import SVG\n",
    "\n",
    "\n",
    "def wright_fisher(N, T, L=100, random_seed=None):\n",
    "    \"\"\"\n",
    "    Simulate a Wright-Fisher population of N haploid individuals with L\n",
    "    discrete loci for T generations. Based on Algorithm W from\n",
    "    https://doi.org/10.1371/journal.pcbi.1006581\n",
    "    \"\"\"\n",
    "    random.seed(random_seed)\n",
    "    tables = tskit.TableCollection(L)\n",
    "    tables.populations.add_row()\n",
    "    P = np.arange(N, dtype=int)\n",
    "    # Mark the initial generation as samples so that we remember these nodes.\n",
    "    for _ in range(N):\n",
    "        tables.nodes.add_row(time=T, flags=tskit.NODE_IS_SAMPLE, population=0)\n",
    "    t = T\n",
    "    while t > 0:\n",
    "        t -= 1\n",
    "        Pp = P.copy()\n",
    "        for j in range(N):\n",
    "            u = tables.nodes.add_row(time=t, flags=0)\n",
    "            Pp[j] = u\n",
    "            a = random.randint(0, N - 1)\n",
    "            b = random.randint(0, N - 1)\n",
    "            x = random.randint(1, L - 1)\n",
    "            tables.edges.add_row(0, x, P[a], u)\n",
    "            tables.edges.add_row(x, L, P[b], u)\n",
    "        P = Pp\n",
    "\n",
    "    # Now do some table manipulations to ensure that the tree sequence\n",
    "    # that we output has the form that msprime needs to finish the\n",
    "    # simulation. Much of the complexity here is caused by the tables API\n",
    "    # not allowing direct access to memory, which will change soon.\n",
    "\n",
    "    # Mark the extant population as samples also\n",
    "    flags = tables.nodes.flags\n",
    "    flags[P] = tskit.NODE_IS_SAMPLE\n",
    "    tables.nodes.flags = flags\n",
    "    tables.sort()\n",
    "    # Simplify with respect to the current generation, but ensuring we keep the\n",
    "    # ancient nodes from the initial population.\n",
    "    tables.simplify()\n",
    "    # Unmark the initial generation as samples\n",
    "    flags = tables.nodes.flags\n",
    "    time = tables.nodes.time\n",
    "    flags[:] = 0\n",
    "    flags[time == 0] = tskit.NODE_IS_SAMPLE\n",
    "    tables.nodes.flags = flags\n",
    "    return tables.tree_sequence()"
   ]
  },
  {
   "cell_type": "markdown",
   "id": "coupled-october",
   "metadata": {},
   "source": [
    "We then run a tiny forward simulation of 10 two-locus individuals\n",
    "for 5 generations, and print out the resulting trees:"
   ]
  },
  {
   "cell_type": "code",
   "execution_count": 2,
   "id": "intimate-hostel",
   "metadata": {},
   "outputs": [
    {
     "data": {
      "image/svg+xml": [
       "<svg xmlns=\"http://www.w3.org/2000/svg\" xmlns:ev=\"http://www.w3.org/2001/xml-events\" xmlns:xlink=\"http://www.w3.org/1999/xlink\" baseProfile=\"full\" height=\"200\" version=\"1.1\" width=\"400\"><defs><style type=\"text/css\"><![CDATA[.axis {font-weight: bold}.tree, .axis {font-size: 14px; text-anchor:middle}.edge {stroke: black; fill: none}.node > .sym {fill: black; stroke: none}.tree text {dominant-baseline: middle}.tree .lab.lft {text-anchor: end}.tree .lab.rgt {text-anchor: start}.mut {fill: red; font-style: italic}]]></style></defs><g class=\"tree-sequence\"><g class=\"background\"><polygon fill=\"#F1F1F1\" points=\"20,185 20,180 20,160 20,0 200.0,0 200.0,160 200.0,180 200.0,185\"/></g><g class=\"trees\"><g class=\"treebox t0\" transform=\"translate(20 30)\"><g class=\"tree t0\"><g class=\"node n0 p0 root\" transform=\"translate(62.7273 30.0)\"><g class=\"a0 node n25\" transform=\"translate(0.0 32.0)\"><g class=\"a25 node n23\" transform=\"translate(-27.2727 16.0)\"><g class=\"a23 leaf node n10 sample\" transform=\"translate(-10.9091 32.0)\"><path class=\"edge\" d=\"M 0 0 V -32.0 H 10.9091\"/><circle class=\"sym\" cx=\"0\" cy=\"0\" r=\"3\"/><text class=\"lab\" transform=\"translate(0 12)\">10</text></g><g class=\"a23 node n21\" transform=\"translate(10.9091 16.0)\"><g class=\"a21 leaf node n14 sample\" transform=\"translate(-7.27273 16.0)\"><path class=\"edge\" d=\"M 0 0 V -16.0 H 7.27273\"/><circle class=\"sym\" cx=\"0\" cy=\"0\" r=\"3\"/><text class=\"lab\" transform=\"translate(0 12)\">14</text></g><g class=\"a21 leaf node n19 sample\" transform=\"translate(7.27273 16.0)\"><path class=\"edge\" d=\"M 0 0 V -16.0 H -7.27273\"/><circle class=\"sym\" cx=\"0\" cy=\"0\" r=\"3\"/><text class=\"lab\" transform=\"translate(0 12)\">19</text></g><path class=\"edge\" d=\"M 0 0 V -16.0 H -10.9091\"/><circle class=\"sym\" cx=\"0\" cy=\"0\" r=\"3\"/><text class=\"lab rgt\" transform=\"translate(3 -6)\">21</text></g><path class=\"edge\" d=\"M 0 0 V -16.0 H 27.2727\"/><circle class=\"sym\" cx=\"0\" cy=\"0\" r=\"3\"/><text class=\"lab lft\" transform=\"translate(-3 -6)\">23</text></g><g class=\"a25 node n24\" transform=\"translate(27.2727 16.0)\"><g class=\"a24 leaf node n11 sample\" transform=\"translate(-21.8182 32.0)\"><path class=\"edge\" d=\"M 0 0 V -32.0 H 21.8182\"/><circle class=\"sym\" cx=\"0\" cy=\"0\" r=\"3\"/><text class=\"lab\" transform=\"translate(0 12)\">11</text></g><g class=\"a24 leaf node n18 sample\" transform=\"translate(21.8182 32.0)\"><path class=\"edge\" d=\"M 0 0 V -32.0 H -21.8182\"/><circle class=\"sym\" cx=\"0\" cy=\"0\" r=\"3\"/><text class=\"lab\" transform=\"translate(0 12)\">18</text></g><g class=\"a24 node n22\" transform=\"translate(0.0 16.0)\"><g class=\"a22 leaf node n15 sample\" transform=\"translate(-7.27273 16.0)\"><path class=\"edge\" d=\"M 0 0 V -16.0 H 7.27273\"/><circle class=\"sym\" cx=\"0\" cy=\"0\" r=\"3\"/><text class=\"lab\" transform=\"translate(0 12)\">15</text></g><g class=\"a22 leaf node n17 sample\" transform=\"translate(7.27273 16.0)\"><path class=\"edge\" d=\"M 0 0 V -16.0 H -7.27273\"/><circle class=\"sym\" cx=\"0\" cy=\"0\" r=\"3\"/><text class=\"lab\" transform=\"translate(0 12)\">17</text></g><path class=\"edge\" d=\"M 0 0 V -16.0 H 0.0\"/><circle class=\"sym\" cx=\"0\" cy=\"0\" r=\"3\"/><text class=\"lab rgt\" transform=\"translate(3 -6)\">22</text></g><path class=\"edge\" d=\"M 0 0 V -16.0 H -27.2727\"/><circle class=\"sym\" cx=\"0\" cy=\"0\" r=\"3\"/><text class=\"lab rgt\" transform=\"translate(3 -6)\">24</text></g><path class=\"edge\" d=\"M 0 0 V -32.0 H 0.0\"/><circle class=\"sym\" cx=\"0\" cy=\"0\" r=\"3\"/><text class=\"lab lft\" transform=\"translate(-3 -6)\">25</text></g><circle class=\"sym\" cx=\"0\" cy=\"0\" r=\"3\"/><text class=\"lab\" transform=\"translate(0 -10)\">0</text></g><g class=\"node n7 p0 root\" transform=\"translate(140.909 30.0)\"><g class=\"a7 node n20\" transform=\"translate(0.0 64.0)\"><g class=\"a20 leaf node n12 sample\" transform=\"translate(-14.5455 16.0)\"><path class=\"edge\" d=\"M 0 0 V -16.0 H 14.5455\"/><circle class=\"sym\" cx=\"0\" cy=\"0\" r=\"3\"/><text class=\"lab\" transform=\"translate(0 12)\">12</text></g><g class=\"a20 leaf node n13 sample\" transform=\"translate(0.0 16.0)\"><path class=\"edge\" d=\"M 0 0 V -16.0 H 0.0\"/><circle class=\"sym\" cx=\"0\" cy=\"0\" r=\"3\"/><text class=\"lab\" transform=\"translate(0 12)\">13</text></g><g class=\"a20 leaf node n16 sample\" transform=\"translate(14.5455 16.0)\"><path class=\"edge\" d=\"M 0 0 V -16.0 H -14.5455\"/><circle class=\"sym\" cx=\"0\" cy=\"0\" r=\"3\"/><text class=\"lab\" transform=\"translate(0 12)\">16</text></g><path class=\"edge\" d=\"M 0 0 V -64.0 H 0.0\"/><circle class=\"sym\" cx=\"0\" cy=\"0\" r=\"3\"/><text class=\"lab lft\" transform=\"translate(-3 -6)\">20</text></g><circle class=\"sym\" cx=\"0\" cy=\"0\" r=\"3\"/><text class=\"lab\" transform=\"translate(0 -10)\">7</text></g></g></g><g class=\"treebox t1\" transform=\"translate(200.0 30)\"><g class=\"tree t1\"><g class=\"node n0 p0 root\" transform=\"translate(60.9091 30.0)\"><g class=\"a0 node n21\" transform=\"translate(0.0 64.0)\"><g class=\"a21 leaf node n14 sample\" transform=\"translate(-7.27273 16.0)\"><path class=\"edge\" d=\"M 0 0 V -16.0 H 7.27273\"/><circle class=\"sym\" cx=\"0\" cy=\"0\" r=\"3\"/><text class=\"lab\" transform=\"translate(0 12)\">14</text></g><g class=\"a21 leaf node n19 sample\" transform=\"translate(36.3636 16.0)\"><path class=\"edge\" d=\"M 0 0 V -16.0 H -36.3636\"/><circle class=\"sym\" cx=\"0\" cy=\"0\" r=\"3\"/><text class=\"lab\" transform=\"translate(0 12)\">19</text></g><g class=\"a21 leaf node n10 sample\" transform=\"translate(-36.3636 16.0)\"><path class=\"edge\" d=\"M 0 0 V -16.0 H 36.3636\"/><circle class=\"sym\" cx=\"0\" cy=\"0\" r=\"3\"/><text class=\"lab\" transform=\"translate(0 12)\">10</text></g><g class=\"a21 leaf node n13 sample\" transform=\"translate(-21.8182 16.0)\"><path class=\"edge\" d=\"M 0 0 V -16.0 H 21.8182\"/><circle class=\"sym\" cx=\"0\" cy=\"0\" r=\"3\"/><text class=\"lab\" transform=\"translate(0 12)\">13</text></g><g class=\"a21 leaf node n16 sample\" transform=\"translate(7.27273 16.0)\"><path class=\"edge\" d=\"M 0 0 V -16.0 H -7.27273\"/><circle class=\"sym\" cx=\"0\" cy=\"0\" r=\"3\"/><text class=\"lab\" transform=\"translate(0 12)\">16</text></g><g class=\"a21 leaf node n18 sample\" transform=\"translate(21.8182 16.0)\"><path class=\"edge\" d=\"M 0 0 V -16.0 H -21.8182\"/><circle class=\"sym\" cx=\"0\" cy=\"0\" r=\"3\"/><text class=\"lab\" transform=\"translate(0 12)\">18</text></g><path class=\"edge\" d=\"M 0 0 V -64.0 H 0.0\"/><circle class=\"sym\" cx=\"0\" cy=\"0\" r=\"3\"/><text class=\"lab lft\" transform=\"translate(-3 -6)\">21</text></g><circle class=\"sym\" cx=\"0\" cy=\"0\" r=\"3\"/><text class=\"lab\" transform=\"translate(0 -10)\">0</text></g><g class=\"node n8 p0 root\" transform=\"translate(111.818 30.0)\"><g class=\"a8 leaf node n11 sample\" transform=\"translate(0.0 80.0)\"><path class=\"edge\" d=\"M 0 0 V -80.0 H 0.0\"/><circle class=\"sym\" cx=\"0\" cy=\"0\" r=\"3\"/><text class=\"lab\" transform=\"translate(0 12)\">11</text></g><circle class=\"sym\" cx=\"0\" cy=\"0\" r=\"3\"/><text class=\"lab\" transform=\"translate(0 -10)\">8</text></g><g class=\"node n4 p0 root\" transform=\"translate(133.636 30.0)\"><g class=\"a4 leaf node n15 sample\" transform=\"translate(-7.27273 80.0)\"><path class=\"edge\" d=\"M 0 0 V -80.0 H 7.27273\"/><circle class=\"sym\" cx=\"0\" cy=\"0\" r=\"3\"/><text class=\"lab\" transform=\"translate(0 12)\">15</text></g><g class=\"a4 leaf node n17 sample\" transform=\"translate(7.27273 80.0)\"><path class=\"edge\" d=\"M 0 0 V -80.0 H -7.27273\"/><circle class=\"sym\" cx=\"0\" cy=\"0\" r=\"3\"/><text class=\"lab\" transform=\"translate(0 12)\">17</text></g><circle class=\"sym\" cx=\"0\" cy=\"0\" r=\"3\"/><text class=\"lab\" transform=\"translate(0 -10)\">4</text></g><g class=\"node n7 p0 root\" transform=\"translate(155.455 30.0)\"><g class=\"a7 leaf node n12 sample\" transform=\"translate(0.0 80.0)\"><path class=\"edge\" d=\"M 0 0 V -80.0 H 0.0\"/><circle class=\"sym\" cx=\"0\" cy=\"0\" r=\"3\"/><text class=\"lab\" transform=\"translate(0 12)\">12</text></g><circle class=\"sym\" cx=\"0\" cy=\"0\" r=\"3\"/><text class=\"lab\" transform=\"translate(0 -10)\">7</text></g></g></g></g><g class=\"axis\"><line stroke=\"black\" x1=\"20\" x2=\"380\" y1=\"180\" y2=\"180\"/><line stroke=\"black\" x1=\"20\" x2=\"20\" y1=\"180\" y2=\"185\"/><g transform=\"translate(20, 200)\"><text font-size=\"14\" font-weight=\"bold\" text-anchor=\"middle\">0</text></g><line stroke=\"black\" x1=\"200.0\" x2=\"200.0\" y1=\"180\" y2=\"185\"/><g transform=\"translate(200.0, 200)\"><text font-size=\"14\" font-weight=\"bold\" text-anchor=\"middle\">1</text></g><line stroke=\"black\" x1=\"380.0\" x2=\"380.0\" y1=\"180\" y2=\"185\"/><g transform=\"translate(380.0, 200)\"><text font-size=\"14\" font-weight=\"bold\" text-anchor=\"middle\">2</text></g></g></g></svg>"
      ],
      "text/plain": [
       "<IPython.core.display.SVG object>"
      ]
     },
     "execution_count": 2,
     "metadata": {
      "filenames": {
       "image/svg+xml": "/home/runner/work/tutorials/tutorials/_build/jupyter_execute/completing-forward-sims_3_0.svg"
      }
     },
     "output_type": "execute_result"
    }
   ],
   "source": [
    "    num_loci = 2\n",
    "    N = 10\n",
    "    wf_ts = wright_fisher(N, 5, L=num_loci, random_seed=3)\n",
    "    SVG(wf_ts.draw_svg())"
   ]
  },
  {
   "cell_type": "markdown",
   "id": "brown-sister",
   "metadata": {},
   "source": [
    "Because our Wright Fisher simulation ran for only 5 generations, there has not\n",
    "been enough time for the trees to fully coalesce. Therefore, instead of having\n",
    "one root, the trees have several --- the first tree has 2 and the second 4.\n",
    "Nodes 0 to 9 in this simulation represent the initial population of the\n",
    "simulation, and so we can see that all samples in the first tree trace back\n",
    "to one of two individuals from the initial generation.\n",
    "These unary branches joining samples and coalesced subtrees to the nodes\n",
    "in the initial generation are essential as they allow use to correctly\n",
    "assemble the various fragments of ancestral material into chromosomes\n",
    "when creating the initial conditions for the coalescent simulation.\n",
    "(Please see the \n",
    "{ref}`msprime documentation <msprime:sec_ancestry_initial_state>`\n",
    "for for more details on the\n",
    "required properties of input tree sequences.)\n",
    "\n",
    "The process of completing this tree sequence using a coalescent simulation\n",
    "begins by first examining the root segments on the input trees. We get the\n",
    "following segments:\n",
    "\n",
    "```\n",
    "    [(0, 2, 0), (0, 2, 7), (1, 2, 8), (1, 2, 4)]\n",
    "```\n",
    "\n",
    "where each segment is a ``(left, right, node)`` tuple. As nodes 0 and 7 are\n",
    "present in both trees, they have segments spanning both loci. Nodes 8 and 4 are\n",
    "present only in the second tree, and so they have ancestral segments only for\n",
    "the second locus. Note that this means that we do *not* simulate the ancestry\n",
    "of the entire initial generation of the simulation, but rather the exact\n",
    "minimum that we need in order to complete the ancestry of the current\n",
    "generation. For instance, root ``8`` has not coalesced over the interval from\n",
    "``1.0`` to ``2.0``, while root ``0`` has not coalesced over the entire segment\n",
    "from ``0.0`` to ``2.0``.\n",
    "\n",
    "We run the coalescent simulation to complete this tree sequence using the\n",
    "``initial_state`` argument to {func}`msprime.sim_ancestry`. Because we have simulated a\n",
    "two locus system with a recombination rate of ``1 / num_loci`` per generation\n",
    "in the Wright-Fisher model, we want to use the same system in the coalescent simulation.\n",
    "Note that we set the ``ploidy`` argument to 1 here because our forward time simulation\n",
    "is haploid and msprime uses a diploid time scale by default."
   ]
  },
  {
   "cell_type": "code",
   "execution_count": 3,
   "id": "dutch-flight",
   "metadata": {},
   "outputs": [
    {
     "data": {
      "image/svg+xml": [
       "<svg xmlns=\"http://www.w3.org/2000/svg\" xmlns:ev=\"http://www.w3.org/2001/xml-events\" xmlns:xlink=\"http://www.w3.org/1999/xlink\" baseProfile=\"full\" height=\"200\" version=\"1.1\" width=\"400\"><defs><style type=\"text/css\"><![CDATA[.axis {font-weight: bold}.tree, .axis {font-size: 14px; text-anchor:middle}.edge {stroke: black; fill: none}.node > .sym {fill: black; stroke: none}.tree text {dominant-baseline: middle}.tree .lab.lft {text-anchor: end}.tree .lab.rgt {text-anchor: start}.mut {fill: red; font-style: italic}]]></style></defs><g class=\"tree-sequence\"><g class=\"background\"><polygon fill=\"#F1F1F1\" points=\"20,185 20,180 20,160 20,0 200.0,0 200.0,160 200.0,180 200.0,185\"/></g><g class=\"trees\"><g class=\"treebox t0\" transform=\"translate(20 30)\"><g class=\"tree t0\"><g class=\"node n26 p0 root\" transform=\"translate(101.818 65.4385)\"><g class=\"a26 node n0 p0\" transform=\"translate(-39.0909 5.17088)\"><g class=\"a0 node n25\" transform=\"translate(0.0 15.7563)\"><g class=\"a25 node n23\" transform=\"translate(-27.2727 7.87813)\"><g class=\"a23 leaf node n10 sample\" transform=\"translate(-10.9091 15.7563)\"><path class=\"edge\" d=\"M 0 0 V -15.7563 H 10.9091\"/><circle class=\"sym\" cx=\"0\" cy=\"0\" r=\"3\"/><text class=\"lab\" transform=\"translate(0 12)\">10</text></g><g class=\"a23 node n21\" transform=\"translate(10.9091 7.87813)\"><g class=\"a21 leaf node n14 sample\" transform=\"translate(-7.27273 7.87813)\"><path class=\"edge\" d=\"M 0 0 V -7.87813 H 7.27273\"/><circle class=\"sym\" cx=\"0\" cy=\"0\" r=\"3\"/><text class=\"lab\" transform=\"translate(0 12)\">14</text></g><g class=\"a21 leaf node n19 sample\" transform=\"translate(7.27273 7.87813)\"><path class=\"edge\" d=\"M 0 0 V -7.87813 H -7.27273\"/><circle class=\"sym\" cx=\"0\" cy=\"0\" r=\"3\"/><text class=\"lab\" transform=\"translate(0 12)\">19</text></g><path class=\"edge\" d=\"M 0 0 V -7.87813 H -10.9091\"/><circle class=\"sym\" cx=\"0\" cy=\"0\" r=\"3\"/><text class=\"lab rgt\" transform=\"translate(3 -6)\">21</text></g><path class=\"edge\" d=\"M 0 0 V -7.87813 H 27.2727\"/><circle class=\"sym\" cx=\"0\" cy=\"0\" r=\"3\"/><text class=\"lab lft\" transform=\"translate(-3 -6)\">23</text></g><g class=\"a25 node n24\" transform=\"translate(27.2727 7.87813)\"><g class=\"a24 leaf node n11 sample\" transform=\"translate(-21.8182 15.7563)\"><path class=\"edge\" d=\"M 0 0 V -15.7563 H 21.8182\"/><circle class=\"sym\" cx=\"0\" cy=\"0\" r=\"3\"/><text class=\"lab\" transform=\"translate(0 12)\">11</text></g><g class=\"a24 leaf node n18 sample\" transform=\"translate(21.8182 15.7563)\"><path class=\"edge\" d=\"M 0 0 V -15.7563 H -21.8182\"/><circle class=\"sym\" cx=\"0\" cy=\"0\" r=\"3\"/><text class=\"lab\" transform=\"translate(0 12)\">18</text></g><g class=\"a24 node n22\" transform=\"translate(0.0 7.87813)\"><g class=\"a22 leaf node n15 sample\" transform=\"translate(-7.27273 7.87813)\"><path class=\"edge\" d=\"M 0 0 V -7.87813 H 7.27273\"/><circle class=\"sym\" cx=\"0\" cy=\"0\" r=\"3\"/><text class=\"lab\" transform=\"translate(0 12)\">15</text></g><g class=\"a22 leaf node n17 sample\" transform=\"translate(7.27273 7.87813)\"><path class=\"edge\" d=\"M 0 0 V -7.87813 H -7.27273\"/><circle class=\"sym\" cx=\"0\" cy=\"0\" r=\"3\"/><text class=\"lab\" transform=\"translate(0 12)\">17</text></g><path class=\"edge\" d=\"M 0 0 V -7.87813 H 0.0\"/><circle class=\"sym\" cx=\"0\" cy=\"0\" r=\"3\"/><text class=\"lab rgt\" transform=\"translate(3 -6)\">22</text></g><path class=\"edge\" d=\"M 0 0 V -7.87813 H -27.2727\"/><circle class=\"sym\" cx=\"0\" cy=\"0\" r=\"3\"/><text class=\"lab rgt\" transform=\"translate(3 -6)\">24</text></g><path class=\"edge\" d=\"M 0 0 V -15.7563 H 0.0\"/><circle class=\"sym\" cx=\"0\" cy=\"0\" r=\"3\"/><text class=\"lab lft\" transform=\"translate(-3 -6)\">25</text></g><path class=\"edge\" d=\"M 0 0 V -5.17088 H 39.0909\"/><circle class=\"sym\" cx=\"0\" cy=\"0\" r=\"3\"/><text class=\"lab lft\" transform=\"translate(-3 -6)\">0</text></g><g class=\"a26 node n7 p0\" transform=\"translate(39.0909 5.17088)\"><g class=\"a7 node n20\" transform=\"translate(0.0 31.5125)\"><g class=\"a20 leaf node n12 sample\" transform=\"translate(-14.5455 7.87813)\"><path class=\"edge\" d=\"M 0 0 V -7.87813 H 14.5455\"/><circle class=\"sym\" cx=\"0\" cy=\"0\" r=\"3\"/><text class=\"lab\" transform=\"translate(0 12)\">12</text></g><g class=\"a20 leaf node n13 sample\" transform=\"translate(0.0 7.87813)\"><path class=\"edge\" d=\"M 0 0 V -7.87813 H 0.0\"/><circle class=\"sym\" cx=\"0\" cy=\"0\" r=\"3\"/><text class=\"lab\" transform=\"translate(0 12)\">13</text></g><g class=\"a20 leaf node n16 sample\" transform=\"translate(14.5455 7.87813)\"><path class=\"edge\" d=\"M 0 0 V -7.87813 H -14.5455\"/><circle class=\"sym\" cx=\"0\" cy=\"0\" r=\"3\"/><text class=\"lab\" transform=\"translate(0 12)\">16</text></g><path class=\"edge\" d=\"M 0 0 V -31.5125 H 0.0\"/><circle class=\"sym\" cx=\"0\" cy=\"0\" r=\"3\"/><text class=\"lab lft\" transform=\"translate(-3 -6)\">20</text></g><path class=\"edge\" d=\"M 0 0 V -5.17088 H -39.0909\"/><circle class=\"sym\" cx=\"0\" cy=\"0\" r=\"3\"/><text class=\"lab rgt\" transform=\"translate(3 -6)\">7</text></g><circle class=\"sym\" cx=\"0\" cy=\"0\" r=\"3\"/><text class=\"lab\" transform=\"translate(0 -10)\">26</text></g></g></g><g class=\"treebox t1\" transform=\"translate(200.0 30)\"><g class=\"tree t1\"><g class=\"node n29 p0 root\" transform=\"translate(135.455 30.0)\"><g class=\"a29 node n7 p0\" transform=\"translate(20.0 40.6094)\"><g class=\"a7 leaf node n12 sample\" transform=\"translate(0.0 39.3906)\"><path class=\"edge\" d=\"M 0 0 V -39.3906 H 0.0\"/><circle class=\"sym\" cx=\"0\" cy=\"0\" r=\"3\"/><text class=\"lab\" transform=\"translate(0 12)\">12</text></g><path class=\"edge\" d=\"M 0 0 V -40.6094 H -20.0\"/><circle class=\"sym\" cx=\"0\" cy=\"0\" r=\"3\"/><text class=\"lab rgt\" transform=\"translate(3 -6)\">7</text></g><g class=\"a29 node n28 p0\" transform=\"translate(-20.0 7.14849)\"><g class=\"a28 node n8 p0\" transform=\"translate(25.4545 33.4609)\"><g class=\"a8 leaf node n11 sample\" transform=\"translate(0.0 39.3906)\"><path class=\"edge\" d=\"M 0 0 V -39.3906 H 0.0\"/><circle class=\"sym\" cx=\"0\" cy=\"0\" r=\"3\"/><text class=\"lab\" transform=\"translate(0 12)\">11</text></g><path class=\"edge\" d=\"M 0 0 V -33.4609 H -25.4545\"/><circle class=\"sym\" cx=\"0\" cy=\"0\" r=\"3\"/><text class=\"lab rgt\" transform=\"translate(3 -6)\">8</text></g><g class=\"a28 node n27 p0\" transform=\"translate(-25.4545 20.3063)\"><g class=\"a27 node n0 p0\" transform=\"translate(-29.0909 13.1546)\"><g class=\"a0 node n21\" transform=\"translate(0.0 31.5125)\"><g class=\"a21 leaf node n14 sample\" transform=\"translate(-7.27273 7.87813)\"><path class=\"edge\" d=\"M 0 0 V -7.87813 H 7.27273\"/><circle class=\"sym\" cx=\"0\" cy=\"0\" r=\"3\"/><text class=\"lab\" transform=\"translate(0 12)\">14</text></g><g class=\"a21 leaf node n19 sample\" transform=\"translate(36.3636 7.87813)\"><path class=\"edge\" d=\"M 0 0 V -7.87813 H -36.3636\"/><circle class=\"sym\" cx=\"0\" cy=\"0\" r=\"3\"/><text class=\"lab\" transform=\"translate(0 12)\">19</text></g><g class=\"a21 leaf node n10 sample\" transform=\"translate(-36.3636 7.87813)\"><path class=\"edge\" d=\"M 0 0 V -7.87813 H 36.3636\"/><circle class=\"sym\" cx=\"0\" cy=\"0\" r=\"3\"/><text class=\"lab\" transform=\"translate(0 12)\">10</text></g><g class=\"a21 leaf node n13 sample\" transform=\"translate(-21.8182 7.87813)\"><path class=\"edge\" d=\"M 0 0 V -7.87813 H 21.8182\"/><circle class=\"sym\" cx=\"0\" cy=\"0\" r=\"3\"/><text class=\"lab\" transform=\"translate(0 12)\">13</text></g><g class=\"a21 leaf node n16 sample\" transform=\"translate(7.27273 7.87813)\"><path class=\"edge\" d=\"M 0 0 V -7.87813 H -7.27273\"/><circle class=\"sym\" cx=\"0\" cy=\"0\" r=\"3\"/><text class=\"lab\" transform=\"translate(0 12)\">16</text></g><g class=\"a21 leaf node n18 sample\" transform=\"translate(21.8182 7.87813)\"><path class=\"edge\" d=\"M 0 0 V -7.87813 H -21.8182\"/><circle class=\"sym\" cx=\"0\" cy=\"0\" r=\"3\"/><text class=\"lab\" transform=\"translate(0 12)\">18</text></g><path class=\"edge\" d=\"M 0 0 V -31.5125 H 0.0\"/><circle class=\"sym\" cx=\"0\" cy=\"0\" r=\"3\"/><text class=\"lab lft\" transform=\"translate(-3 -6)\">21</text></g><path class=\"edge\" d=\"M 0 0 V -13.1546 H 29.0909\"/><circle class=\"sym\" cx=\"0\" cy=\"0\" r=\"3\"/><text class=\"lab lft\" transform=\"translate(-3 -6)\">0</text></g><g class=\"a27 node n4 p0\" transform=\"translate(29.0909 13.1546)\"><g class=\"a4 leaf node n15 sample\" transform=\"translate(-7.27273 39.3906)\"><path class=\"edge\" d=\"M 0 0 V -39.3906 H 7.27273\"/><circle class=\"sym\" cx=\"0\" cy=\"0\" r=\"3\"/><text class=\"lab\" transform=\"translate(0 12)\">15</text></g><g class=\"a4 leaf node n17 sample\" transform=\"translate(7.27273 39.3906)\"><path class=\"edge\" d=\"M 0 0 V -39.3906 H -7.27273\"/><circle class=\"sym\" cx=\"0\" cy=\"0\" r=\"3\"/><text class=\"lab\" transform=\"translate(0 12)\">17</text></g><path class=\"edge\" d=\"M 0 0 V -13.1546 H -29.0909\"/><circle class=\"sym\" cx=\"0\" cy=\"0\" r=\"3\"/><text class=\"lab rgt\" transform=\"translate(3 -6)\">4</text></g><path class=\"edge\" d=\"M 0 0 V -20.3063 H 25.4545\"/><circle class=\"sym\" cx=\"0\" cy=\"0\" r=\"3\"/><text class=\"lab lft\" transform=\"translate(-3 -6)\">27</text></g><path class=\"edge\" d=\"M 0 0 V -7.14849 H 20.0\"/><circle class=\"sym\" cx=\"0\" cy=\"0\" r=\"3\"/><text class=\"lab lft\" transform=\"translate(-3 -6)\">28</text></g><circle class=\"sym\" cx=\"0\" cy=\"0\" r=\"3\"/><text class=\"lab\" transform=\"translate(0 -10)\">29</text></g></g></g></g><g class=\"axis\"><line stroke=\"black\" x1=\"20\" x2=\"380\" y1=\"180\" y2=\"180\"/><line stroke=\"black\" x1=\"20\" x2=\"20\" y1=\"180\" y2=\"185\"/><g transform=\"translate(20, 200)\"><text font-size=\"14\" font-weight=\"bold\" text-anchor=\"middle\">0</text></g><line stroke=\"black\" x1=\"200.0\" x2=\"200.0\" y1=\"180\" y2=\"185\"/><g transform=\"translate(200.0, 200)\"><text font-size=\"14\" font-weight=\"bold\" text-anchor=\"middle\">1</text></g><line stroke=\"black\" x1=\"380.0\" x2=\"380.0\" y1=\"180\" y2=\"185\"/><g transform=\"translate(380.0, 200)\"><text font-size=\"14\" font-weight=\"bold\" text-anchor=\"middle\">2</text></g></g></g></svg>"
      ],
      "text/plain": [
       "<IPython.core.display.SVG object>"
      ]
     },
     "execution_count": 3,
     "metadata": {
      "filenames": {
       "image/svg+xml": "/home/runner/work/tutorials/tutorials/_build/jupyter_execute/completing-forward-sims_5_0.svg"
      }
     },
     "output_type": "execute_result"
    }
   ],
   "source": [
    "    coalesced_ts = msprime.sim_ancestry(\n",
    "        population_size=N, \n",
    "        initial_state=wf_ts, \n",
    "        recombination_rate=1 / num_loci, \n",
    "        ploidy=1,\n",
    "        random_seed=7)\n",
    "    SVG(coalesced_ts.draw_svg())"
   ]
  },
  {
   "cell_type": "markdown",
   "id": "daily-alloy",
   "metadata": {},
   "source": [
    "The trees have fully coalesced and we've successfully combined a forwards-time\n",
    "Wright-Fisher simulation with a coalescent simulation: hooray!\n",
    "\n",
    "\n",
    "## Why record the initial generation?\n",
    "\n",
    "We can now see why it is essential that the forwards simulator records the\n",
    "*initial* generation in a tree sequence that will later be used as a\n",
    "``initial_state`` argument to {func}`msprime.sim_ancestry`. In the example above, if node\n",
    "``7`` was not in the tree sequence, we would not know that the segment that\n",
    "node ``20`` inherits from on ``[0.0, 1.0)`` and the segment that node ``12``\n",
    "inherits from on ``[1.0, 2.0)`` both exist in the same node (here, node ``7``).\n",
    "\n",
    "However, note that although the intial generation (above, nodes ``0``, ``4``,\n",
    "``7``, and ``8``) must be in the tree sequence, they do *not* have to be\n",
    "samples. The easiest way to do this is to\n",
    "(a) retain the initial generation as samples throughout the forwards simulation\n",
    "(so they persist through {meth}`~tskit.TableCollection.simplify`), but then (b) before we output\n",
    "the final tree sequence, we remove the flags that mark them as samples,\n",
    "so that {func}`msprime.sim_ancestry` does not simulate their entire history as well. This\n",
    "is the approach taken in the toy simulator provided above (although we skip\n",
    "the periodic {meth}`~tskit.TableCollection.simplify` steps which are essential \n",
    "in any practical simulation for simplicity).\n",
    "\n",
    "\n",
    "## Topology gotchas\n",
    "\n",
    "The trees that we output from this combined forwards and backwards simulation\n",
    "process have some slightly odd properties that are important to be aware of.\n",
    "In the example above, we can see that the old roots are still present in both trees,\n",
    "even through they have only one child and are clearly redundant.\n",
    "This is because the tables of ``initial_state`` have been retained, without modification,\n",
    "at the top of the tables of the output tree sequence. While this\n",
    "redundancy is not important for many tasks, there are some cases where\n",
    "they may cause problems:\n",
    "\n",
    "1. When computing statistics on the number of nodes, edges or trees in a tree\n",
    "   sequence, having these unary edges and redundant nodes will slightly\n",
    "   inflate the values.\n",
    "2. If you are computing the overall tree \"height\" by taking the time of the\n",
    "   root node, you may overestimate the height because there is a unary edge\n",
    "   above the \"real\" root (this would happen if one of the trees had already\n",
    "   coalesced in the forwards-time simulation).\n",
    "\n",
    "For these reasons it is usually better to remove this redundancy from your\n",
    "computed tree sequence which is easily done using the\n",
    "{meth}`simplify <tskit.TreeSequence.simplify>` method:"
   ]
  },
  {
   "cell_type": "code",
   "execution_count": 4,
   "id": "binary-restoration",
   "metadata": {},
   "outputs": [
    {
     "data": {
      "image/svg+xml": [
       "<svg xmlns=\"http://www.w3.org/2000/svg\" xmlns:ev=\"http://www.w3.org/2001/xml-events\" xmlns:xlink=\"http://www.w3.org/1999/xlink\" baseProfile=\"full\" height=\"200\" version=\"1.1\" width=\"400\"><defs><style type=\"text/css\"><![CDATA[.axis {font-weight: bold}.tree, .axis {font-size: 14px; text-anchor:middle}.edge {stroke: black; fill: none}.node > .sym {fill: black; stroke: none}.tree text {dominant-baseline: middle}.tree .lab.lft {text-anchor: end}.tree .lab.rgt {text-anchor: start}.mut {fill: red; font-style: italic}]]></style></defs><g class=\"tree-sequence\"><g class=\"background\"><polygon fill=\"#F1F1F1\" points=\"20,185 20,180 20,160 20,0 200.0,0 200.0,160 200.0,180 200.0,185\"/></g><g class=\"trees\"><g class=\"treebox t0\" transform=\"translate(20 30)\"><g class=\"tree t0\"><g class=\"node n26 p0 root\" transform=\"translate(101.818 65.4385)\"><g class=\"a26 node n0 p0\" transform=\"translate(-39.0909 5.17088)\"><g class=\"a0 node n25\" transform=\"translate(0.0 15.7563)\"><g class=\"a25 node n23\" transform=\"translate(-27.2727 7.87813)\"><g class=\"a23 leaf node n10 sample\" transform=\"translate(-10.9091 15.7563)\"><path class=\"edge\" d=\"M 0 0 V -15.7563 H 10.9091\"/><circle class=\"sym\" cx=\"0\" cy=\"0\" r=\"3\"/><text class=\"lab\" transform=\"translate(0 12)\">10</text></g><g class=\"a23 node n21\" transform=\"translate(10.9091 7.87813)\"><g class=\"a21 leaf node n14 sample\" transform=\"translate(-7.27273 7.87813)\"><path class=\"edge\" d=\"M 0 0 V -7.87813 H 7.27273\"/><circle class=\"sym\" cx=\"0\" cy=\"0\" r=\"3\"/><text class=\"lab\" transform=\"translate(0 12)\">14</text></g><g class=\"a21 leaf node n19 sample\" transform=\"translate(7.27273 7.87813)\"><path class=\"edge\" d=\"M 0 0 V -7.87813 H -7.27273\"/><circle class=\"sym\" cx=\"0\" cy=\"0\" r=\"3\"/><text class=\"lab\" transform=\"translate(0 12)\">19</text></g><path class=\"edge\" d=\"M 0 0 V -7.87813 H -10.9091\"/><circle class=\"sym\" cx=\"0\" cy=\"0\" r=\"3\"/><text class=\"lab rgt\" transform=\"translate(3 -6)\">21</text></g><path class=\"edge\" d=\"M 0 0 V -7.87813 H 27.2727\"/><circle class=\"sym\" cx=\"0\" cy=\"0\" r=\"3\"/><text class=\"lab lft\" transform=\"translate(-3 -6)\">23</text></g><g class=\"a25 node n24\" transform=\"translate(27.2727 7.87813)\"><g class=\"a24 leaf node n11 sample\" transform=\"translate(-21.8182 15.7563)\"><path class=\"edge\" d=\"M 0 0 V -15.7563 H 21.8182\"/><circle class=\"sym\" cx=\"0\" cy=\"0\" r=\"3\"/><text class=\"lab\" transform=\"translate(0 12)\">11</text></g><g class=\"a24 leaf node n18 sample\" transform=\"translate(21.8182 15.7563)\"><path class=\"edge\" d=\"M 0 0 V -15.7563 H -21.8182\"/><circle class=\"sym\" cx=\"0\" cy=\"0\" r=\"3\"/><text class=\"lab\" transform=\"translate(0 12)\">18</text></g><g class=\"a24 node n22\" transform=\"translate(0.0 7.87813)\"><g class=\"a22 leaf node n15 sample\" transform=\"translate(-7.27273 7.87813)\"><path class=\"edge\" d=\"M 0 0 V -7.87813 H 7.27273\"/><circle class=\"sym\" cx=\"0\" cy=\"0\" r=\"3\"/><text class=\"lab\" transform=\"translate(0 12)\">15</text></g><g class=\"a22 leaf node n17 sample\" transform=\"translate(7.27273 7.87813)\"><path class=\"edge\" d=\"M 0 0 V -7.87813 H -7.27273\"/><circle class=\"sym\" cx=\"0\" cy=\"0\" r=\"3\"/><text class=\"lab\" transform=\"translate(0 12)\">17</text></g><path class=\"edge\" d=\"M 0 0 V -7.87813 H 0.0\"/><circle class=\"sym\" cx=\"0\" cy=\"0\" r=\"3\"/><text class=\"lab rgt\" transform=\"translate(3 -6)\">22</text></g><path class=\"edge\" d=\"M 0 0 V -7.87813 H -27.2727\"/><circle class=\"sym\" cx=\"0\" cy=\"0\" r=\"3\"/><text class=\"lab rgt\" transform=\"translate(3 -6)\">24</text></g><path class=\"edge\" d=\"M 0 0 V -15.7563 H 0.0\"/><circle class=\"sym\" cx=\"0\" cy=\"0\" r=\"3\"/><text class=\"lab lft\" transform=\"translate(-3 -6)\">25</text></g><path class=\"edge\" d=\"M 0 0 V -5.17088 H 39.0909\"/><circle class=\"sym\" cx=\"0\" cy=\"0\" r=\"3\"/><text class=\"lab lft\" transform=\"translate(-3 -6)\">0</text></g><g class=\"a26 node n7 p0\" transform=\"translate(39.0909 5.17088)\"><g class=\"a7 node n20\" transform=\"translate(0.0 31.5125)\"><g class=\"a20 leaf node n12 sample\" transform=\"translate(-14.5455 7.87813)\"><path class=\"edge\" d=\"M 0 0 V -7.87813 H 14.5455\"/><circle class=\"sym\" cx=\"0\" cy=\"0\" r=\"3\"/><text class=\"lab\" transform=\"translate(0 12)\">12</text></g><g class=\"a20 leaf node n13 sample\" transform=\"translate(0.0 7.87813)\"><path class=\"edge\" d=\"M 0 0 V -7.87813 H 0.0\"/><circle class=\"sym\" cx=\"0\" cy=\"0\" r=\"3\"/><text class=\"lab\" transform=\"translate(0 12)\">13</text></g><g class=\"a20 leaf node n16 sample\" transform=\"translate(14.5455 7.87813)\"><path class=\"edge\" d=\"M 0 0 V -7.87813 H -14.5455\"/><circle class=\"sym\" cx=\"0\" cy=\"0\" r=\"3\"/><text class=\"lab\" transform=\"translate(0 12)\">16</text></g><path class=\"edge\" d=\"M 0 0 V -31.5125 H 0.0\"/><circle class=\"sym\" cx=\"0\" cy=\"0\" r=\"3\"/><text class=\"lab lft\" transform=\"translate(-3 -6)\">20</text></g><path class=\"edge\" d=\"M 0 0 V -5.17088 H -39.0909\"/><circle class=\"sym\" cx=\"0\" cy=\"0\" r=\"3\"/><text class=\"lab rgt\" transform=\"translate(3 -6)\">7</text></g><circle class=\"sym\" cx=\"0\" cy=\"0\" r=\"3\"/><text class=\"lab\" transform=\"translate(0 -10)\">26</text></g></g></g><g class=\"treebox t1\" transform=\"translate(200.0 30)\"><g class=\"tree t1\"><g class=\"node n29 p0 root\" transform=\"translate(135.455 30.0)\"><g class=\"a29 node n7 p0\" transform=\"translate(20.0 40.6094)\"><g class=\"a7 leaf node n12 sample\" transform=\"translate(0.0 39.3906)\"><path class=\"edge\" d=\"M 0 0 V -39.3906 H 0.0\"/><circle class=\"sym\" cx=\"0\" cy=\"0\" r=\"3\"/><text class=\"lab\" transform=\"translate(0 12)\">12</text></g><path class=\"edge\" d=\"M 0 0 V -40.6094 H -20.0\"/><circle class=\"sym\" cx=\"0\" cy=\"0\" r=\"3\"/><text class=\"lab rgt\" transform=\"translate(3 -6)\">7</text></g><g class=\"a29 node n28 p0\" transform=\"translate(-20.0 7.14849)\"><g class=\"a28 node n8 p0\" transform=\"translate(25.4545 33.4609)\"><g class=\"a8 leaf node n11 sample\" transform=\"translate(0.0 39.3906)\"><path class=\"edge\" d=\"M 0 0 V -39.3906 H 0.0\"/><circle class=\"sym\" cx=\"0\" cy=\"0\" r=\"3\"/><text class=\"lab\" transform=\"translate(0 12)\">11</text></g><path class=\"edge\" d=\"M 0 0 V -33.4609 H -25.4545\"/><circle class=\"sym\" cx=\"0\" cy=\"0\" r=\"3\"/><text class=\"lab rgt\" transform=\"translate(3 -6)\">8</text></g><g class=\"a28 node n27 p0\" transform=\"translate(-25.4545 20.3063)\"><g class=\"a27 node n0 p0\" transform=\"translate(-29.0909 13.1546)\"><g class=\"a0 node n21\" transform=\"translate(0.0 31.5125)\"><g class=\"a21 leaf node n14 sample\" transform=\"translate(-7.27273 7.87813)\"><path class=\"edge\" d=\"M 0 0 V -7.87813 H 7.27273\"/><circle class=\"sym\" cx=\"0\" cy=\"0\" r=\"3\"/><text class=\"lab\" transform=\"translate(0 12)\">14</text></g><g class=\"a21 leaf node n19 sample\" transform=\"translate(36.3636 7.87813)\"><path class=\"edge\" d=\"M 0 0 V -7.87813 H -36.3636\"/><circle class=\"sym\" cx=\"0\" cy=\"0\" r=\"3\"/><text class=\"lab\" transform=\"translate(0 12)\">19</text></g><g class=\"a21 leaf node n10 sample\" transform=\"translate(-36.3636 7.87813)\"><path class=\"edge\" d=\"M 0 0 V -7.87813 H 36.3636\"/><circle class=\"sym\" cx=\"0\" cy=\"0\" r=\"3\"/><text class=\"lab\" transform=\"translate(0 12)\">10</text></g><g class=\"a21 leaf node n13 sample\" transform=\"translate(-21.8182 7.87813)\"><path class=\"edge\" d=\"M 0 0 V -7.87813 H 21.8182\"/><circle class=\"sym\" cx=\"0\" cy=\"0\" r=\"3\"/><text class=\"lab\" transform=\"translate(0 12)\">13</text></g><g class=\"a21 leaf node n16 sample\" transform=\"translate(7.27273 7.87813)\"><path class=\"edge\" d=\"M 0 0 V -7.87813 H -7.27273\"/><circle class=\"sym\" cx=\"0\" cy=\"0\" r=\"3\"/><text class=\"lab\" transform=\"translate(0 12)\">16</text></g><g class=\"a21 leaf node n18 sample\" transform=\"translate(21.8182 7.87813)\"><path class=\"edge\" d=\"M 0 0 V -7.87813 H -21.8182\"/><circle class=\"sym\" cx=\"0\" cy=\"0\" r=\"3\"/><text class=\"lab\" transform=\"translate(0 12)\">18</text></g><path class=\"edge\" d=\"M 0 0 V -31.5125 H 0.0\"/><circle class=\"sym\" cx=\"0\" cy=\"0\" r=\"3\"/><text class=\"lab lft\" transform=\"translate(-3 -6)\">21</text></g><path class=\"edge\" d=\"M 0 0 V -13.1546 H 29.0909\"/><circle class=\"sym\" cx=\"0\" cy=\"0\" r=\"3\"/><text class=\"lab lft\" transform=\"translate(-3 -6)\">0</text></g><g class=\"a27 node n4 p0\" transform=\"translate(29.0909 13.1546)\"><g class=\"a4 leaf node n15 sample\" transform=\"translate(-7.27273 39.3906)\"><path class=\"edge\" d=\"M 0 0 V -39.3906 H 7.27273\"/><circle class=\"sym\" cx=\"0\" cy=\"0\" r=\"3\"/><text class=\"lab\" transform=\"translate(0 12)\">15</text></g><g class=\"a4 leaf node n17 sample\" transform=\"translate(7.27273 39.3906)\"><path class=\"edge\" d=\"M 0 0 V -39.3906 H -7.27273\"/><circle class=\"sym\" cx=\"0\" cy=\"0\" r=\"3\"/><text class=\"lab\" transform=\"translate(0 12)\">17</text></g><path class=\"edge\" d=\"M 0 0 V -13.1546 H -29.0909\"/><circle class=\"sym\" cx=\"0\" cy=\"0\" r=\"3\"/><text class=\"lab rgt\" transform=\"translate(3 -6)\">4</text></g><path class=\"edge\" d=\"M 0 0 V -20.3063 H 25.4545\"/><circle class=\"sym\" cx=\"0\" cy=\"0\" r=\"3\"/><text class=\"lab lft\" transform=\"translate(-3 -6)\">27</text></g><path class=\"edge\" d=\"M 0 0 V -7.14849 H 20.0\"/><circle class=\"sym\" cx=\"0\" cy=\"0\" r=\"3\"/><text class=\"lab lft\" transform=\"translate(-3 -6)\">28</text></g><circle class=\"sym\" cx=\"0\" cy=\"0\" r=\"3\"/><text class=\"lab\" transform=\"translate(0 -10)\">29</text></g></g></g></g><g class=\"axis\"><line stroke=\"black\" x1=\"20\" x2=\"380\" y1=\"180\" y2=\"180\"/><line stroke=\"black\" x1=\"20\" x2=\"20\" y1=\"180\" y2=\"185\"/><g transform=\"translate(20, 200)\"><text font-size=\"14\" font-weight=\"bold\" text-anchor=\"middle\">0</text></g><line stroke=\"black\" x1=\"200.0\" x2=\"200.0\" y1=\"180\" y2=\"185\"/><g transform=\"translate(200.0, 200)\"><text font-size=\"14\" font-weight=\"bold\" text-anchor=\"middle\">1</text></g><line stroke=\"black\" x1=\"380.0\" x2=\"380.0\" y1=\"180\" y2=\"185\"/><g transform=\"translate(380.0, 200)\"><text font-size=\"14\" font-weight=\"bold\" text-anchor=\"middle\">2</text></g></g></g></svg>"
      ],
      "text/plain": [
       "<IPython.core.display.SVG object>"
      ]
     },
     "execution_count": 4,
     "metadata": {
      "filenames": {
       "image/svg+xml": "/home/runner/work/tutorials/tutorials/_build/jupyter_execute/completing-forward-sims_7_0.svg"
      }
     },
     "output_type": "execute_result"
    }
   ],
   "source": [
    "    final_ts = coalesced_ts.simplify()\n",
    "    SVG(coalesced_ts.draw_svg())"
   ]
  },
  {
   "cell_type": "markdown",
   "id": "cooked-medicare",
   "metadata": {},
   "source": [
    "This final tree sequence is topologically identical to the original tree sequence,\n",
    "but has the redundant nodes and edges removed. Note also that he node IDs have been\n",
    "reassigned so that the samples are 0 to 9 --- if you need the IDs from the original\n",
    "tree sequence, please set ``map_nodes=True`` when calling ``simplify`` to get a\n",
    "mapping between the two sets of IDs."
   ]
  }
 ],
 "metadata": {
  "jupytext": {
   "text_representation": {
    "extension": ".md",
    "format_name": "myst"
   }
  },
  "kernelspec": {
   "display_name": "Python 3",
   "language": "python",
   "name": "python3"
  },
  "language_info": {
   "codemirror_mode": {
    "name": "ipython",
    "version": 3
   },
   "file_extension": ".py",
   "mimetype": "text/x-python",
   "name": "python",
   "nbconvert_exporter": "python",
   "pygments_lexer": "ipython3",
   "version": "3.8.7"
  },
  "source_map": [
   10,
   35,
   90,
   95,
   100,
   143,
   151,
   201,
   205
  ]
 },
 "nbformat": 4,
 "nbformat_minor": 5
}