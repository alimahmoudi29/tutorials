{
 "cells": [
  {
   "cell_type": "markdown",
   "id": "intended-belize",
   "metadata": {},
   "source": [
    "# Introgression \n",
    "\n",
    "**Jerome Kelleher and Konrad Lohse**\n",
    "\n",
    "There has been great interest in understanding the contributions past populations have made to the genetic diversity of current populations via admixture. In particular, the availability of whole genome sequence data from archaic hominins (Green et al 2010) has allowed geneticists to identify admixture tracks (Sankararaman 2016). In the simplest case, admixture tracts can be defined heuristically as regions of the genome that show excessive similarity between a putative source and a recipient population (usually quantified relative to some non-admixted reference population, ref Durand et al 2010). Because recombination breaks down admixture tracts, their length distribution gives a clock for calibrating admixture and this information been used to date the admixure contributions Neanderthals and other archaic hominins have made to non-African humans (Sankararaman 2016) and to recontruct the admixture history between different modern human populations (ref).\n",
    "\n",
    "Crucially, the power to identify admixture depends on the relative time bewteen the admixture event and the earlier divergence between source and the recipient population: the shorter this interval, the harder it becomes to detect admixture. This is because ancestral material is increasingly likely to trace its ancestry back to the common ancestral population regardless of whether it has been involved in any recent admixture or not. In other words, it becomes increasingly difficult to distinguish between admixtjure from Incomplete lineage sorting (ILS).\n",
    "\n",
    "In the following section we use msprime simulations to ask what fraction of admixture tracts are identifyable as such. \n",
    "\n",
    "To illustrate this, we simulate ancestral recombination graphs (ARGs) under a simple toy history of divergence and admixture which is loosely motivated by the demographic history of modern humans and Neandertals. As in previous sections, we will first examine properties of the ARG directly rather than use it to simulate mutations. We assume a minimal sample of a single (haploid) genome from a modern human population in African and Eurasia as well as an ancient Neandertal sample.\n",
    "\n",
    "Considering a rooted ARG, we want to distinguish three categories of segments: i) tracts actually involved in Neandertal admixture, ii) the subset of those tracts that coalesces in the Neandertal population and iii) segments at which Eurasians are more closely related to Neandertals than either are to Africans. This latter category must include all of ii) but also an additional set of short tracts that are due to incomplete lineage sorting (ILS). The last category is interesting because it is the only one that can be unambiguously detected in data (via derived mutations that are shared by Neandertals and Eurasians)."
   ]
  },
  {
   "cell_type": "markdown",
   "id": "coastal-melissa",
   "metadata": {},
   "source": [
    "First we set up a highly simplified demographic history of human neandertal demography and simulate a single chromosome of 100Mb length:"
   ]
  },
  {
   "cell_type": "code",
   "execution_count": null,
   "id": "steady-lawsuit",
   "metadata": {},
   "outputs": [],
   "source": [
    "%matplotlib inline\n",
    "%config InlineBackend.figure_format = 'svg'\n",
    "import random\n",
    "import collections\n",
    "import msprime\n",
    "import numpy as np\n",
    "import seaborn as sns\n",
    "import multiprocessing\n",
    "import matplotlib.pyplot as plt\n",
    "\n",
    "from IPython.display import SVG"
   ]
  },
  {
   "cell_type": "code",
   "execution_count": null,
   "id": "technical-directory",
   "metadata": {},
   "outputs": [],
   "source": [
    "# Population IDs: Africa, Eurasia, Neanderthal\n",
    "AFR, EUR, NEA = 0, 1, 2\n",
    "    \n",
    "def run_simulation(random_seed=None):   \n",
    "    time_units = 1000 / 25  # Conversion factor for kya to generations\n",
    "    ts = msprime.simulate(\n",
    "        Ne=10**4,  # The same for all populations; highly unrealistic!\n",
    "        recombination_rate=1e-8,\n",
    "        length=100*10**6,  # 100 Mb\n",
    "        samples=[\n",
    "            msprime.Sample(time=0, population=AFR),\n",
    "            msprime.Sample(time=0, population=EUR),\n",
    "            # Neanderthal sample taken 30 kya\n",
    "            msprime.Sample(time=30 * time_units, population=NEA),\n",
    "        ],\n",
    "        population_configurations = [\n",
    "            msprime.PopulationConfiguration(), # Africa\n",
    "            msprime.PopulationConfiguration(), # Eurasia\n",
    "            msprime.PopulationConfiguration(), # Neanderthal\n",
    "        ],\n",
    "        demographic_events = [\n",
    "            msprime.MassMigration(\n",
    "                # 2% introgression 50 kya\n",
    "                time=50 * time_units,\n",
    "                source=EUR, dest=NEA, proportion=0.02),\n",
    "            msprime.MassMigration(\n",
    "                # Eurasian & Africa populations merge 70 kya\n",
    "                time=70 * time_units, \n",
    "                source=EUR, dest=AFR, proportion=1),\n",
    "            msprime.MassMigration(\n",
    "                # Neanderthal and African populations merge 300 kya\n",
    "                time=300 * time_units,\n",
    "                source=NEA, destination=AFR, proportion=1),\n",
    "        ],\n",
    "        record_migrations=True,  # Needed for tracking segments.\n",
    "        random_seed=random_seed,\n",
    "    )\n",
    "    return ts\n",
    "\n",
    "ts = run_simulation(1)"
   ]
  },
  {
   "cell_type": "markdown",
   "id": "sorted-default",
   "metadata": {},
   "source": [
    "Here we run our simulation in the usual way, but including the ``record_migrations`` option. This allows us to track segments of ancestral material that migrate from the European population into the Neanderthal population (backwards in time). We can then examine the length distributions of these segments and compare them with the length of the segments that also go on to coalesce within the Neanderthal population."
   ]
  },
  {
   "cell_type": "code",
   "execution_count": null,
   "id": "municipal-reaction",
   "metadata": {},
   "outputs": [],
   "source": [
    "def get_migrating_tracts(ts):\n",
    "    migrating_tracts = []\n",
    "    # Get all tracts that migrated into the neanderthal population\n",
    "    for migration in ts.migrations():\n",
    "        if migration.dest == NEA:\n",
    "            migrating_tracts.append((migration.left, migration.right))\n",
    "    return np.array(migrating_tracts) \n",
    "\n",
    "def get_coalescing_tracts(ts):\n",
    "    coalescing_tracts = []\n",
    "    tract_left = None\n",
    "    for tree in ts.trees():    \n",
    "        # 1 is the Eurasian sample and 2 is the Neanderthal\n",
    "        mrca_pop = tree.population(tree.mrca(1, 2))\n",
    "        left = tree.interval[0]\n",
    "        if mrca_pop == NEA and tract_left is None:\n",
    "            # Start a new tract\n",
    "            tract_left = left      \n",
    "        elif mrca_pop != NEA and tract_left is not None:\n",
    "            # End the last tract\n",
    "            coalescing_tracts.append((tract_left, left))\n",
    "            tract_left = None\n",
    "    if tract_left is not None:\n",
    "        coalescing_tracts.append((tract_left, ts.sequence_length))\n",
    "    return np.array(coalescing_tracts)\n",
    "\n",
    "def get_eur_nea_tracts(ts):\n",
    "    tracts = []\n",
    "    tract_left = None\n",
    "    for tree in ts.trees():    \n",
    "        # 1 is the Eurasian sample and 2 is the Neanderthal\n",
    "        mrca = tree.mrca(1, 2)\n",
    "        left = tree.interval[0]\n",
    "        if mrca != tree.root and tract_left is None:\n",
    "            # Start a new tract\n",
    "            tract_left = left      \n",
    "        elif mrca != tree.root and tract_left is not None:\n",
    "            # End the last tract\n",
    "            tracts.append((tract_left, left))\n",
    "            tract_left = None\n",
    "    if tract_left is not None:\n",
    "        tracts.append((tract_left, ts.sequence_length))\n",
    "    return np.array(tracts)\n",
    "\n",
    "                                    \n",
    "migrating = get_migrating_tracts(ts)\n",
    "within_nea = get_coalescing_tracts(ts)\n",
    "eur_nea = get_eur_nea_tracts(ts)"
   ]
  },
  {
   "cell_type": "markdown",
   "id": "native-visiting",
   "metadata": {},
   "source": [
    "We build three different lists. The first is the set of tracts that have migrated from the Eurasian population into the Neanderthal population, and is done simply by finding all migration records in which the destination population is equal to NEA. The second list (which must contain a subset of the segments in the first list) is the ancestral segments that went on to coalesce within the Neanderthal population. The third list contains all segments in which the Eurasian and Neanderthal sample coalesce before their ancestor coalesces with the African sample. The third list includes both Eurasian segments that migrated to the Neanderthal population and segments that did not migrate and did not coalesce until after the Neanderthal-Human population split 300kya."
   ]
  },
  {
   "cell_type": "code",
   "execution_count": null,
   "id": "separate-study",
   "metadata": {},
   "outputs": [],
   "source": [
    "nea_total = np.sum(eur_nea[:,1] - eur_nea[:,0])\n",
    "migrating_total = np.sum(migrating[:,1] - migrating[:,0])\n",
    "within_nea_total = np.sum(within_nea[:,1] - within_nea[:,0])\n",
    "print([nea_total, migrating_total, within_nea_total])"
   ]
  },
  {
   "cell_type": "markdown",
   "id": "affiliated-brush",
   "metadata": {},
   "source": [
    "Although $f=0.02$ the total length of admixted segments is 5% of the chromosome. Presumably this excess is just due to coalescence variance? We expect a proportion $1-e^{-(T_{split}-T_{ad})}$ of admixted lineages to coalesce. Given our time parameters $T_{split}-T_{ad})= 1/2$ (in units of $2 N_e$ generations), so we expect $1 -(e^-\\frac{1}{2})=0.39$ of admixted sequence to have a coalesce in the neandertal population. Why is the observed fraction just 0.029?"
   ]
  },
  {
   "cell_type": "code",
   "execution_count": null,
   "id": "standard-breathing",
   "metadata": {},
   "outputs": [],
   "source": [
    "kb = 1 / 1000\n",
    "plt.hist([\n",
    "    (eur_nea[:,1] - eur_nea[:,0]) * kb,\n",
    "    (migrating[:,1] - migrating[:,0]) * kb,   \n",
    "    (within_nea[:,1] - within_nea[:,0]) * kb,],    \n",
    "    label=[\"Migrating\", \"EUR-NEA\", \"Within NEA\"]\n",
    ")\n",
    "plt.yscale('log')\n",
    "plt.legend()\n",
    "plt.xlabel(\"Tract length (KB)\");"
   ]
  },
  {
   "cell_type": "markdown",
   "id": "dietary-america",
   "metadata": {},
   "source": [
    "Plotting these tract lengths for a single replicate shows that, as expected, admixture tracts are large initially (blue). We can also see that there is extensive ILS which has two effects: First, only a subset  of the admixted material has ancestry in the Neandertal population, it would to check whether this fits the total lengths}). Second there many more tracts at which Neandertals and non-African humans are more closely related to each other due to incomplete lineage sorting (ILS) than there are admixture tracts. Finally ILS tracts because they are old by definition  are substantially shorter than admixture tracts."
   ]
  },
  {
   "cell_type": "markdown",
   "id": "permanent-roommate",
   "metadata": {},
   "source": [
    "## Locating mutations\n",
    "\n",
    "We are interested in finding the population in which mutations arose. Because mutations are just associated with a specific tree node in msprime, we must simulate some extra information in order to make this question answerable. This is quite straightforward to do, since we can generate a time for each mutation uniformly along a branch and therefore unambiguously locate it time (and, therefore, space)."
   ]
  },
  {
   "cell_type": "code",
   "execution_count": null,
   "id": "systematic-funds",
   "metadata": {},
   "outputs": [],
   "source": [
    "def simulate_mutation_times(ts, random_seed=None):\n",
    "    rng = random.Random(random_seed)\n",
    "    mutation_time = np.zeros(ts.num_mutations)\n",
    "    for tree in ts.trees():\n",
    "        for mutation in tree.mutations():\n",
    "            a = tree.time(mutation.node)\n",
    "            b = tree.time(tree.parent(mutation.node))\n",
    "            mutation_time[mutation.id] = rng.uniform(a, b)\n",
    "    return mutation_time\n",
    "\n",
    "pop_configs = [\n",
    "    msprime.PopulationConfiguration(sample_size=3),\n",
    "    msprime.PopulationConfiguration(sample_size=1),\n",
    "    msprime.PopulationConfiguration(sample_size=1)]\n",
    "M = [\n",
    "    [0, 1, 1],\n",
    "    [1, 0, 1],\n",
    "    [1, 1, 0]]\n",
    "ts  = msprime.simulate(\n",
    "    population_configurations=pop_configs, migration_matrix=M,\n",
    "    record_migrations=True, mutation_rate=0.5, random_seed=25)\n",
    "mutation_time = simulate_mutation_times(ts, random_seed=25)"
   ]
  },
  {
   "cell_type": "markdown",
   "id": "electrical-warehouse",
   "metadata": {},
   "source": [
    "Once we have run our simulation and assigned times to each mutation, we can then assign populations to each of these mutations. The following function takes a simple approach, but first gathering the migrations for each node into a list. Then, for every mutation, we sequentially examine each migration that affects the mutation's node and intersects with the site position. Because we know that the migration records are sorted in increasing time order, we can simply apply the effects of each migration while the migration record's time is less than the time of the mutation. At the end of this process, we then return the computed mapping of mutation IDs to the populations in which they arose."
   ]
  },
  {
   "cell_type": "code",
   "execution_count": null,
   "id": "aboriginal-million",
   "metadata": {},
   "outputs": [],
   "source": [
    "def get_mutation_population(ts, mutation_time):\n",
    "    node_migrations = collections.defaultdict(list)\n",
    "    for migration in ts.migrations():\n",
    "        node_migrations[migration.node].append(migration)\n",
    "    mutation_population = np.zeros(ts.num_mutations, dtype=int)\n",
    "    for tree in ts.trees():\n",
    "        for site in tree.sites():\n",
    "            for mutation in site.mutations:                \n",
    "                mutation_population[mutation.id] = tree.population(mutation.node)\n",
    "                for mig in node_migrations[mutation.node]:\n",
    "                    # Stepping through all migations will be inefficient for large \n",
    "                    # simulations. Should use an interval tree (e.g. \n",
    "                    # https://pypi.python.org/pypi/intervaltree) to find all \n",
    "                    # intervals intersecting with site.position.\n",
    "                    if mig.left <= site.position < mig.right:\n",
    "                        # Note that we assume that we see the migration records in \n",
    "                        # increasing order of time!\n",
    "                        if mig.time < mutation_time[mutation.id]:\n",
    "                            assert mutation_population[mutation.id] == mig.source\n",
    "                            mutation_population[mutation.id] = mig.dest\n",
    "    return mutation_population\n",
    "\n",
    "mutation_population = get_mutation_population(ts, mutation_time)"
   ]
  },
  {
   "cell_type": "code",
   "execution_count": null,
   "id": "usual-teach",
   "metadata": {},
   "outputs": [],
   "source": [
    "tree = ts.first()\n",
    "colour_map = {0:\"red\", 1:\"blue\", 2: \"green\"}\n",
    "node_colours = {u: colour_map[tree.population(u)] for u in tree.nodes()}\n",
    "mutation_colours = {mut.id: colour_map[mutation_population[mut.id]] for mut in tree.mutations()}\n",
    "SVG(tree.draw(node_colours=node_colours, mutation_colours=mutation_colours))\n",
    "    "
   ]
  },
  {
   "cell_type": "markdown",
   "id": "precise-prime",
   "metadata": {},
   "source": [
    "This example shows the locations in which the mutations along the tree branches. We show a single tree here for simplicity, but the method also works when we have recombination."
   ]
  }
 ],
 "metadata": {
  "jupytext": {
   "text_representation": {
    "extension": ".md",
    "format_name": "myst",
    "format_version": 0.12,
    "jupytext_version": "1.9.1"
   }
  },
  "kernelspec": {
   "display_name": "Python 3",
   "language": "python",
   "name": "python3"
  },
  "source_map": [
   12,
   28,
   32,
   46,
   87,
   91,
   140,
   144,
   149,
   153,
   164,
   168,
   174,
   197,
   201,
   227,
   234
  ]
 },
 "nbformat": 4,
 "nbformat_minor": 5
}