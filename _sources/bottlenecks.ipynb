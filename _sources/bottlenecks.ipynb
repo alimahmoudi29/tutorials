{
 "cells": [
  {
   "cell_type": "markdown",
   "id": "scheduled-butter",
   "metadata": {},
   "source": [
    "# Bottlenecks\n",
    "\n",
    "**Konrad Lohse and Jerome Kelleher**\n",
    "\n",
    "The site frequency spectrum (SFS) summarises variants by their frequency in a sample and is a fundamental summary of sequence variation that forms the basis of many modern inference approaches (e.g. sweepfinder, DFE-alpha, dadi). First, the SFS is a lossless summary of unlinked variants, so any summary of sequence variation that ignores linkage (e.g. pairwise measures of diversity and divergence, F_st, Tajima's D and D) are summaries of the SFS.\n",
    "\n",
    "The SFS is convenient analytically, because it only depends on the mean length and frequency of genealogical branches. For many demographic models of interest the means can be derived analytically either using coalescent theory (cite Huang, TPB) or diffusion equations (cite dadi). A number of composite likelihood approaches have been developed based on either analytic results for the SFS (cite dadi Excoffier, Jaada). However, analytic expectations for the SFS break down for large samples and/or complex demographic models. \n",
    "\n",
    "In the following section we show how the SFS can be approximated using coalescence simulations and compare such approximations to analytic results. We will assume a simple toy history of a single panmictic population that is affected by an instaneous bottleneck at time T with strenght s (cite Galtier et al). The effect of this bottleneck is to induce sudden burst of coalescence, which simultaneous multiple merges. We measure bottleneck strength as the probability that a pair of lineages coalesces during the bottleneck (we could could of course convert s into on (imaginary) time period that would give the same probability of coalescence $s=1-e^{-T}$).\n",
    "\n",
    "We assume a sample of size 10 and use msprime to simulate 10,000 replicate genealogies. For each genealogy the function bottSFS records the unfolded SFS as the mean length of branches with n leafnodes (normalized by the total length of the genealogy) by iterating through all nodes in the tree.sequence. Note that we are simulating genealogies only, i.e. we do not need to simulate mutations.\n",
    "\n",
    "We use a for loop to record the SFS for a range of bottleneck strengths parameters in a dictionary:"
   ]
  },
  {
   "cell_type": "code",
   "execution_count": null,
   "id": "ambient-stack",
   "metadata": {},
   "outputs": [],
   "source": [
    "%matplotlib inline\n",
    "%config InlineBackend.figure_format = 'svg'\n",
    "import msprime\n",
    "import numpy as np\n",
    "import seaborn as sns\n",
    "import matplotlib.pyplot as plt"
   ]
  },
  {
   "cell_type": "code",
   "execution_count": null,
   "id": "fixed-pottery",
   "metadata": {},
   "outputs": [],
   "source": [
    "def run_bott_sims(num_rep, num_samp, T, s):    \n",
    "    demographic_events = [\n",
    "        msprime.InstantaneousBottleneck(time=T, strength=s, population=0)]\n",
    "    reps = msprime.simulate(\n",
    "        sample_size=num_samp, Ne=Ne, num_replicates=num_rep, \n",
    "        demographic_events=demographic_events)\n",
    "    return reps\n",
    "\n",
    "def approx_SFS(reps):\n",
    "    B = np.zeros((num_rep, num_samp))\n",
    "    for rep_index, ts in enumerate(reps):\n",
    "        assert ts.num_trees == 1\n",
    "        tree = ts.first()\n",
    "        for u in tree.nodes():\n",
    "            nleaves = tree.num_samples(u)\n",
    "            if tree.parent(u) != msprime.NULL_NODE:\n",
    "                B[rep_index, nleaves] += tree.branch_length(u)    \n",
    "    data = np.mean(B, axis=0)\n",
    "    data /= np.sum(data)\n",
    "    return data\n",
    "\n",
    "num_rep = 1000\n",
    "num_samp = 10\n",
    "Ne = 1\n",
    "T = 0.5\n",
    "taulist= np.array([0,1,2,3])\n",
    "datalist = {}\n",
    "for tau in taulist:\n",
    "    datalist[tau]= approx_SFS(run_bott_sims(num_rep, num_samp, T, tau))\n",
    "    \n",
    "# My guess/assumption is that currently bottleneck strength in msprime is scaled as an (imaginary) time tau (in units of 4N_e) generations. \n",
    "# It makes a lot more sense to express the bottleneck strength as the probability of pairwise coalescence\n",
    "# during the bottelenck s=1-np.exp(-tau/2)"
   ]
  },
  {
   "cell_type": "markdown",
   "id": "prospective-obligation",
   "metadata": {},
   "source": [
    "With increasing bottleneck strength the SFS becomes increasingly skewed (the leftmost blue bars show the SFS for a population of constant size). However, bottlenecks have a complex effect on the different frequency classes of the SFS: while the relative frequency of singletons increases, other frequency classes (e.g. doubletons) have a non-monotonic relationship with bottleneck strength:"
   ]
  },
  {
   "cell_type": "code",
   "execution_count": null,
   "id": "roman-transparency",
   "metadata": {},
   "outputs": [],
   "source": [
    "bar_width=0.2\n",
    "index = np.arange(1,num_samp)\n",
    "j = 0\n",
    "for s, B in datalist.items():\n",
    "    plt.bar(index + j * bar_width, B[1:], bar_width, label=str(s))\n",
    "    j += 1"
   ]
  },
  {
   "cell_type": "markdown",
   "id": "lesser-warner",
   "metadata": {},
   "source": [
    "## Comparison with analytic predictions"
   ]
  },
  {
   "cell_type": "markdown",
   "id": "according-center",
   "metadata": {},
   "source": [
    "How does the approximate SFS compare to analytic expectations? For a population of constant size, the SFS is simply given by Watterson's correction factor, that is the total length branches with i leafnodes is given is 1/i. Reassuringly, in the limit of s=0 (no bottleneck), our SFS approximation based on simulated genealogies agrees with this prediction:"
   ]
  },
  {
   "cell_type": "code",
   "execution_count": null,
   "id": "geographic-proposition",
   "metadata": {},
   "outputs": [],
   "source": [
    "expsfs=[(1/i) for i in range(1,10)]\n",
    "expsfs/=np.sum(expsfs)\n",
    "\n",
    "fig, ax = plt.subplots()\n",
    "index = np.arange(1,10)\n",
    "bar_width = 0.4\n",
    "opacity = 0.9\n",
    "\n",
    "simsfs = ax.bar(index, datalist[0][1:], bar_width, alpha=opacity, label='sim')\n",
    "expextsfs = ax.bar(index+ bar_width, expsfs, bar_width, alpha=opacity, label='exp')\n",
    "\n",
    "fig.tight_layout()\n",
    "plt.show()"
   ]
  },
  {
   "cell_type": "markdown",
   "id": "rural-edward",
   "metadata": {},
   "source": [
    "The analytic prediction for the SFS under a bottleneck model is more complicated (Bunnefeld et al. 2015, Appendix). For a sample of n=4 lineages the SFS is:"
   ]
  },
  {
   "cell_type": "code",
   "execution_count": null,
   "id": "large-blink",
   "metadata": {},
   "outputs": [],
   "source": [
    "#We are assuming a bottleneck of strength tau = 4 N_e generations \n",
    "#and a bottleneck time of T=1 (2 in units of 4 Ne)\n",
    "#I am pretty sure the analytic prediction for the SFS is correct: the limit mfor s->0 is correct and\n",
    "#itr matches the automatically generated expression in the Mathematica .nb...\n",
    "\n",
    "T=2\n",
    "slist=[1-np.exp(-tau) for tau in taulist]\n",
    "\n",
    "for s in slist:\n",
    "    p=s*(-6 + 15*s - 20 * np.power(s,2) + 15 * np.power(s,3) - 6 * np.power(s,4) + np.power(s,5))\n",
    "    expsfsBottlN= [2/15*(np.exp(-6*T)*(15 *np.exp(6*T) - 9 *np.exp(5*T)*s - \n",
    "                                   5*np.exp(3*T)*s*(3 - 3*s + np.power(s,2)) + p)),\n",
    "               1/5*np.exp(-6*T)*(5*np.exp(6*T) - 6*np.exp(5*T)*s - p),\n",
    "               2/15*np.exp(-6*T)*(5*np.exp(6*T) - 9*np.exp(5*T)*s + 5*np.exp(3*T)*s*(3-3*s + np.power(s,2)) + p)]\n",
    "\n",
    "    expsfsBottlN/=np.sum(expsfsBottlN)\n",
    "    print(expsfsBottlN)"
   ]
  },
  {
   "cell_type": "markdown",
   "id": "absent-fiction",
   "metadata": {},
   "source": [
    "The fit between the SFS simulated with msprime and the analytic prediction is noty convincing (given the 100,000 replicates):"
   ]
  },
  {
   "cell_type": "code",
   "execution_count": null,
   "id": "intellectual-review",
   "metadata": {},
   "outputs": [],
   "source": [
    "num_samp = 4\n",
    "num_rep = 1000\n",
    "data4 = {}\n",
    "T = 1\n",
    "for tau in taulist:\n",
    "    data4[tau]= approx_SFS(run_bott_sims(num_rep, num_samp, T, tau/2))"
   ]
  },
  {
   "cell_type": "code",
   "execution_count": null,
   "id": "single-cartoon",
   "metadata": {},
   "outputs": [],
   "source": [
    "fig, ax = plt.subplots()\n",
    "index = np.arange(1,4)\n",
    "bar_width = 0.4\n",
    "print(data4[0][1:])\n",
    "print(data4[1][1:])\n",
    "print(data4[2][1:])\n",
    "print(data4[3][1:])\n",
    "\n",
    "simsfs = ax.bar(index, data4[3][1:], bar_width, alpha=opacity, label='sim')\n",
    "expextsfs = ax.bar(index+ bar_width, expsfsBottlN, bar_width, label='exp')\n",
    "\n",
    "fig.tight_layout()\n",
    "plt.show()"
   ]
  },
  {
   "cell_type": "markdown",
   "id": "durable-cliff",
   "metadata": {},
   "source": [
    "## The distribution of nton branches"
   ]
  },
  {
   "cell_type": "markdown",
   "id": "continuing-window",
   "metadata": {},
   "source": [
    "Given that the SFS only depends on mean  branch lengths, it is interesting to inspect the probability density distribution of the underlying genealogical branches. Given the discrete event, the pfd of nton branches are discontinuous."
   ]
  },
  {
   "cell_type": "code",
   "execution_count": null,
   "id": "pleased-eagle",
   "metadata": {},
   "outputs": [],
   "source": [
    "s=1\n",
    "demographic_events = [msprime.InstantaneousBottleneck(time=T, strength=s, population=0)]\n",
    "reps = msprime.simulate(\n",
    "    sample_size=num_samp, Ne=Ne, num_replicates=num_rep, \n",
    "    demographic_events=demographic_events)\n",
    "B = np.zeros((num_rep, num_samp))\n",
    "for rep_index, ts in enumerate(reps):\n",
    "    tree = next(ts.trees())\n",
    "    for u in tree.nodes():\n",
    "        nleaves = tree.num_samples(u)\n",
    "        if tree.parent(u) != msprime.NULL_NODE:\n",
    "            B[rep_index, nleaves]+=tree.branch_length(u)"
   ]
  },
  {
   "cell_type": "code",
   "execution_count": null,
   "id": "engaging-librarian",
   "metadata": {},
   "outputs": [],
   "source": [
    "Btrans=np.array(B).T.tolist()\n",
    "sns.distplot(Btrans[1],axlabel=\"f(t)\")\n",
    "sns.distplot(Btrans[2],axlabel=\"f(t)\")\n",
    "sns.distplot(Btrans[3],axlabel=\"f(t)\");"
   ]
  },
  {
   "cell_type": "markdown",
   "id": "conceptual-vacuum",
   "metadata": {},
   "source": [
    "### To Do"
   ]
  },
  {
   "cell_type": "markdown",
   "id": "assumed-browser",
   "metadata": {},
   "source": [
    "1) Fix the scaling of the strength in msprime\n",
    "2) Fix the pdf plot above: \n",
    "    - Label axes on the pdf plot above: y-> f(t), x -> t\n",
    "    - Restrict X range to 15\n",
    "3) Fix the x axes on all the barplots so that these correspond to classes in the SFS"
   ]
  },
  {
   "cell_type": "code",
   "execution_count": null,
   "id": "subjective-bundle",
   "metadata": {},
   "outputs": [],
   "source": []
  }
 ],
 "metadata": {
  "jupytext": {
   "text_representation": {
    "extension": ".md",
    "format_name": "myst",
    "format_version": 0.12,
    "jupytext_version": "1.9.1"
   }
  },
  "kernelspec": {
   "display_name": "Python 3",
   "language": "python",
   "name": "python3"
  },
  "source_map": [
   12,
   28,
   37,
   71,
   75,
   82,
   86,
   90,
   104,
   108,
   126,
   130,
   139,
   153,
   157,
   161,
   176,
   181,
   185,
   193
  ]
 },
 "nbformat": 4,
 "nbformat_minor": 5
}